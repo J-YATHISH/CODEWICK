{
 "cells": [
  {
   "cell_type": "code",
   "execution_count": 14,
   "id": "ee08ef9b",
   "metadata": {},
   "outputs": [],
   "source": [
    "import os \n",
    "from dotenv import load_dotenv\n",
    "load_dotenv()\n",
    "\n",
    "os.environ['OPENAI_API_KEY'] = os.getenv('OPENAI_API_KEY')"
   ]
  },
  {
   "cell_type": "code",
   "execution_count": 15,
   "id": "7c061717",
   "metadata": {},
   "outputs": [
    {
     "data": {
      "text/plain": [
       "[Document(metadata={'producer': 'Microsoft® Word 2021', 'creator': 'Microsoft® Word 2021', 'creationdate': '2025-07-15T21:35:22+05:30', 'author': 'yathi yathish', 'moddate': '2025-07-15T21:35:22+05:30', 'source': 'farming_threats.pdf', 'total_pages': 3, 'page': 0, 'page_label': '1'}, page_content='1. Climate Change & Extreme Weather Events \\n• Droughts (water scarcity) \\n• Floods (waterlogging, soil erosion) \\n• Unpredictable rainfall patterns \\n• Heatwaves (crop stress, reduced yields) \\n• Frost & hailstorms (damage to crops) \\n2. Pests & Diseases \\n• Insect infestations (locusts, aphids, borers) \\n• Fungal, bacterial & viral diseases (blight, rust, wilt) \\n• Weed infestations (competing for nutrients) \\n• Invasive species (disrupting local ecosystems) \\n3. Soil Degradation & Loss of Fertility \\n• Soil erosion (wind/water) \\n• Salinization (excess irrigation) \\n• Nutrient depletion (over-farming) \\n• Acidification (excessive chemical use) \\n4. Market & Economic Challenges \\n• Price volatility (fluctuating crop prices) \\n• High input costs (seeds, fertilizers, pesticides) \\n• Lack of fair pricing & exploitation by middlemen \\n• Debt burden & lack of credit access \\n5. Water Scarcity & Poor Irrigation \\n• Depleting groundwater levels \\n• Uneven water distribution \\n• Poor irrigation infrastructure \\n• Competition for water resources \\n6. Labor Shortages & High Costs \\n• Migration of rural labor to cities \\n• High wages during peak seasons \\n• Mechanization challenges for small farmers \\n7. Post-Harvest Losses'),\n",
       " Document(metadata={'producer': 'Microsoft® Word 2021', 'creator': 'Microsoft® Word 2021', 'creationdate': '2025-07-15T21:35:22+05:30', 'author': 'yathi yathish', 'moddate': '2025-07-15T21:35:22+05:30', 'source': 'farming_threats.pdf', 'total_pages': 3, 'page': 1, 'page_label': '2'}, page_content='• Poor storage facilities (leading to spoilage) \\n• Lack of cold chains for perishable goods \\n• Transportation & logistical issues \\n8. Policy & Regulatory Issues \\n• Land ownership disputes \\n• Subsidy delays or mismanagement \\n• Trade restrictions & export bans \\n9. Technology Gaps \\n• Limited access to modern farming techniques \\n• High cost of precision agriculture tools \\n• Digital illiteracy in rural areas \\n10. Wildlife & Human-Animal Conflicts \\n• Crop damage by wild animals (elephants, monkeys, wild boars) \\n• Lack of effective \\nHere are some solutions to address the common threats faced by farmers in agriculture: \\n1. Climate Change & Extreme Weather \\n   Climate-Resilient Crops – Use drought/flood-resistant seed varieties. \\n   Drip Irrigation & Water Conservation – Efficient water use to combat droughts. \\n   Agroforestry & Windbreaks – Trees reduce soil erosion and improve microclimate. \\n   Weather Forecasting & Early Warning Systems – Helps farmers prepare for extreme weather. \\n2. Pests & Diseases \\n   Integrated Pest Management (IPM) – Combines biological, cultural, and chemical control. \\n   Biocontrol Agents – Use natural predators (e.g., ladybugs for aphids). \\n   Crop Rotation & Intercropping – Reduces pest buildup in monocultures. \\n   Disease-Resistant Varieties – GM or hybrid seeds that resist common diseases. \\n3. Soil Degradation & Fertility Loss \\n   Organic Farming & Composting – Improves soil health naturally. \\n   Cover Cropping & Mulching – Prevents erosion and retains moisture. \\n   Reduced Tillage – Minimizes soil disturbance and degradation. \\n   Balanced Fertilizer Use – Soil testing to avoid overuse of chemicals. \\n4. Market & Economic Challenges \\n   Direct Farmer-to-Consumer Sales (FPOs, Farmer Markets) – Bypasses middlemen. \\n   Government MSP & Price Support – Ensures fair crop prices.'),\n",
       " Document(metadata={'producer': 'Microsoft® Word 2021', 'creator': 'Microsoft® Word 2021', 'creationdate': '2025-07-15T21:35:22+05:30', 'author': 'yathi yathish', 'moddate': '2025-07-15T21:35:22+05:30', 'source': 'farming_threats.pdf', 'total_pages': 3, 'page': 2, 'page_label': '3'}, page_content='Crop Insurance & Credit Access – Protects against losses (e.g., PMFBY in India). \\n   Diversification (Agri + Livestock + Agro-Tourism) – Reduces income risk. \\n5. Water Scarcity & Irrigation Issues \\n   Micro-Irrigation (Drip/Sprinkler) – Saves up to 60% water. \\n   Rainwater Harvesting & Check Dams – Recharges groundwater. \\n   Solar-Powered Pumps – Reduces dependency on erratic electricity. \\n   SRI (System of Rice Intensification) – Uses less water for paddy. \\n6. Labor Shortages & High Costs \\n   Farm Mechanization (Tractors, Seeders, Harvesters) – Reduces dependency on labor. \\n   Cooperative Farming – Farmers pool resources for shared machinery. \\n   Training & Skill Development – Encourages youth to take up farming. \\n7. Post-Harvest Losses \\n   Cold Storage & Warehouses – Reduces spoilage of perishables. \\n   Solar Dryers & Processing Units – Extends shelf life of produce. \\n   Better Packaging & Transport – Reduces damage during transit. \\n8. Policy & Regulatory Support \\n   Land Reforms & Clear Titles – Prevents ownership disputes. \\n   Subsidy Reforms – Direct benefit transfers (DBT) to avoid corruption. \\n   Export Promotion & E-NAM (Digital Markets) – Better price discovery. \\n9. Technology Gaps \\n   Precision Farming (Drones, IoT Sensors) – Optimizes input use. \\n   Mobile Apps for Agri-Advisory (e.g., Kisan Suvidha, AgriApp) – Real-time guidance. \\n   Government & Private Sector Training Programs – Improves tech adoption. \\n10. Human-Wildlife Conflict \\n   Solar Fencing & Trenches – Keeps animals away from farms. \\n   Biofencing (Cactus, Thorny Plants) – Natural barriers. \\n   Community-Based Compensation Schemes – Govt. pays for crop damage. \\nBonus: Future-Ready Solutions \\n   Vertical & Hydroponic Farming – Saves space & water. \\n   AI & Big Data for Predictive Farming – Forecasts pest attacks, weather risks. \\n   Blockchain for Supply Chain Transparency – Ensures fair pricing. \\nBy adopting a mix of traditional knowledge and modern innovations, farmers can mitigate risks and \\nimprove sustainability. Which challenge do you think is the hardest to solve?')]"
      ]
     },
     "execution_count": 15,
     "metadata": {},
     "output_type": "execute_result"
    }
   ],
   "source": [
    "from langchain_community.document_loaders import PyPDFLoader\n",
    "loader = PyPDFLoader('farming_threats.pdf')\n",
    "docs = loader.load()\n",
    "\n",
    "docs"
   ]
  },
  {
   "cell_type": "code",
   "execution_count": 16,
   "id": "edbfc154",
   "metadata": {},
   "outputs": [
    {
     "data": {
      "text/plain": [
       "[Document(metadata={'producer': 'Microsoft® Word 2021', 'creator': 'Microsoft® Word 2021', 'creationdate': '2025-07-15T21:35:22+05:30', 'author': 'yathi yathish', 'moddate': '2025-07-15T21:35:22+05:30', 'source': 'farming_threats.pdf', 'total_pages': 3, 'page': 0, 'page_label': '1'}, page_content='1. Climate Change & Extreme Weather Events \\n• Droughts (water scarcity) \\n• Floods (waterlogging, soil erosion) \\n• Unpredictable rainfall patterns \\n• Heatwaves (crop stress, reduced yields) \\n• Frost & hailstorms (damage to crops) \\n2. Pests & Diseases \\n• Insect infestations (locusts, aphids, borers) \\n• Fungal, bacterial & viral diseases (blight, rust, wilt) \\n• Weed infestations (competing for nutrients) \\n• Invasive species (disrupting local ecosystems) \\n3. Soil Degradation & Loss of Fertility \\n• Soil erosion (wind/water) \\n• Salinization (excess irrigation) \\n• Nutrient depletion (over-farming) \\n• Acidification (excessive chemical use) \\n4. Market & Economic Challenges \\n• Price volatility (fluctuating crop prices) \\n• High input costs (seeds, fertilizers, pesticides) \\n• Lack of fair pricing & exploitation by middlemen \\n• Debt burden & lack of credit access \\n5. Water Scarcity & Poor Irrigation \\n• Depleting groundwater levels \\n• Uneven water distribution \\n• Poor irrigation infrastructure'),\n",
       " Document(metadata={'producer': 'Microsoft® Word 2021', 'creator': 'Microsoft® Word 2021', 'creationdate': '2025-07-15T21:35:22+05:30', 'author': 'yathi yathish', 'moddate': '2025-07-15T21:35:22+05:30', 'source': 'farming_threats.pdf', 'total_pages': 3, 'page': 0, 'page_label': '1'}, page_content='• Debt burden & lack of credit access \\n5. Water Scarcity & Poor Irrigation \\n• Depleting groundwater levels \\n• Uneven water distribution \\n• Poor irrigation infrastructure \\n• Competition for water resources \\n6. Labor Shortages & High Costs \\n• Migration of rural labor to cities \\n• High wages during peak seasons \\n• Mechanization challenges for small farmers \\n7. Post-Harvest Losses'),\n",
       " Document(metadata={'producer': 'Microsoft® Word 2021', 'creator': 'Microsoft® Word 2021', 'creationdate': '2025-07-15T21:35:22+05:30', 'author': 'yathi yathish', 'moddate': '2025-07-15T21:35:22+05:30', 'source': 'farming_threats.pdf', 'total_pages': 3, 'page': 1, 'page_label': '2'}, page_content='• Poor storage facilities (leading to spoilage) \\n• Lack of cold chains for perishable goods \\n• Transportation & logistical issues \\n8. Policy & Regulatory Issues \\n• Land ownership disputes \\n• Subsidy delays or mismanagement \\n• Trade restrictions & export bans \\n9. Technology Gaps \\n• Limited access to modern farming techniques \\n• High cost of precision agriculture tools \\n• Digital illiteracy in rural areas \\n10. Wildlife & Human-Animal Conflicts \\n• Crop damage by wild animals (elephants, monkeys, wild boars) \\n• Lack of effective \\nHere are some solutions to address the common threats faced by farmers in agriculture: \\n1. Climate Change & Extreme Weather \\n   Climate-Resilient Crops – Use drought/flood-resistant seed varieties. \\n   Drip Irrigation & Water Conservation – Efficient water use to combat droughts. \\n   Agroforestry & Windbreaks – Trees reduce soil erosion and improve microclimate. \\n   Weather Forecasting & Early Warning Systems – Helps farmers prepare for extreme weather.'),\n",
       " Document(metadata={'producer': 'Microsoft® Word 2021', 'creator': 'Microsoft® Word 2021', 'creationdate': '2025-07-15T21:35:22+05:30', 'author': 'yathi yathish', 'moddate': '2025-07-15T21:35:22+05:30', 'source': 'farming_threats.pdf', 'total_pages': 3, 'page': 1, 'page_label': '2'}, page_content='Agroforestry & Windbreaks – Trees reduce soil erosion and improve microclimate. \\n   Weather Forecasting & Early Warning Systems – Helps farmers prepare for extreme weather. \\n2. Pests & Diseases \\n   Integrated Pest Management (IPM) – Combines biological, cultural, and chemical control. \\n   Biocontrol Agents – Use natural predators (e.g., ladybugs for aphids). \\n   Crop Rotation & Intercropping – Reduces pest buildup in monocultures. \\n   Disease-Resistant Varieties – GM or hybrid seeds that resist common diseases. \\n3. Soil Degradation & Fertility Loss \\n   Organic Farming & Composting – Improves soil health naturally. \\n   Cover Cropping & Mulching – Prevents erosion and retains moisture. \\n   Reduced Tillage – Minimizes soil disturbance and degradation. \\n   Balanced Fertilizer Use – Soil testing to avoid overuse of chemicals. \\n4. Market & Economic Challenges \\n   Direct Farmer-to-Consumer Sales (FPOs, Farmer Markets) – Bypasses middlemen.'),\n",
       " Document(metadata={'producer': 'Microsoft® Word 2021', 'creator': 'Microsoft® Word 2021', 'creationdate': '2025-07-15T21:35:22+05:30', 'author': 'yathi yathish', 'moddate': '2025-07-15T21:35:22+05:30', 'source': 'farming_threats.pdf', 'total_pages': 3, 'page': 1, 'page_label': '2'}, page_content='Balanced Fertilizer Use – Soil testing to avoid overuse of chemicals. \\n4. Market & Economic Challenges \\n   Direct Farmer-to-Consumer Sales (FPOs, Farmer Markets) – Bypasses middlemen. \\n   Government MSP & Price Support – Ensures fair crop prices.')]"
      ]
     },
     "execution_count": 16,
     "metadata": {},
     "output_type": "execute_result"
    }
   ],
   "source": [
    "# converting into chunks\n",
    "#breaking the bigger PDF into Chunks \n",
    "from langchain.text_splitter import RecursiveCharacterTextSplitter\n",
    "text_splitter = RecursiveCharacterTextSplitter(chunk_size = 1000,chunk_overlap=200)\n",
    "documents = text_splitter.split_documents(docs)\n",
    "documents[:5]"
   ]
  },
  {
   "cell_type": "code",
   "execution_count": 17,
   "id": "5069f868",
   "metadata": {},
   "outputs": [
    {
     "name": "stderr",
     "output_type": "stream",
     "text": [
      "Failed to send telemetry event ClientStartEvent: capture() takes 1 positional argument but 3 were given\n",
      "Failed to send telemetry event ClientCreateCollectionEvent: capture() takes 1 positional argument but 3 were given\n"
     ]
    }
   ],
   "source": [
    "#vector embeddings and vector store\n",
    "from langchain_community.embeddings import OllamaEmbeddings\n",
    "from langchain_community.vectorstores import Chroma\n",
    "\n",
    "# Use an embedding-capable model instead\n",
    "#gemma 3b:1 is not an text generation model \n",
    "#Nomic Embed Text: A Powerful Open-Source Embedding Model\n",
    "# not a generative AI model\n",
    "embeddings = OllamaEmbeddings(model=\"nomic-embed-text\")  # Correct embedding model\n",
    "\n",
    "db = Chroma.from_documents(documents[:20], embeddings)"
   ]
  },
  {
   "cell_type": "code",
   "execution_count": 18,
   "id": "a7b74bf9",
   "metadata": {},
   "outputs": [
    {
     "data": {
      "text/plain": [
       "'Agroforestry & Windbreaks – Trees reduce soil erosion and improve microclimate. \\n   Weather Forecasting & Early Warning Systems – Helps farmers prepare for extreme weather. \\n2. Pests & Diseases \\n   Integrated Pest Management (IPM) – Combines biological, cultural, and chemical control. \\n   Biocontrol Agents – Use natural predators (e.g., ladybugs for aphids). \\n   Crop Rotation & Intercropping – Reduces pest buildup in monocultures. \\n   Disease-Resistant Varieties – GM or hybrid seeds that resist common diseases. \\n3. Soil Degradation & Fertility Loss \\n   Organic Farming & Composting – Improves soil health naturally. \\n   Cover Cropping & Mulching – Prevents erosion and retains moisture. \\n   Reduced Tillage – Minimizes soil disturbance and degradation. \\n   Balanced Fertilizer Use – Soil testing to avoid overuse of chemicals. \\n4. Market & Economic Challenges \\n   Direct Farmer-to-Consumer Sales (FPOs, Farmer Markets) – Bypasses middlemen.'"
      ]
     },
     "execution_count": 18,
     "metadata": {},
     "output_type": "execute_result"
    }
   ],
   "source": [
    "query = \"what can be solution for soil erosion\"\n",
    "result = db.similarity_search(query)\n",
    "result[0].page_content\n"
   ]
  },
  {
   "cell_type": "code",
   "execution_count": 19,
   "id": "fd69fdb5",
   "metadata": {},
   "outputs": [],
   "source": [
    "#FAISS database\n",
    "from langchain_community.vectorstores import FAISS\n",
    "from langchain_community.embeddings import OllamaEmbeddings\n",
    "\n",
    "db1 = FAISS.from_documents(documents[:20], OllamaEmbeddings(model=\"nomic-embed-text\"))"
   ]
  },
  {
   "cell_type": "code",
   "execution_count": 20,
   "id": "62edd094",
   "metadata": {},
   "outputs": [],
   "source": [
    "#RAG pipeline\n",
    "from langchain_community.llms import Ollama  \n",
    "db1  #db1 is our FAISS vector store\n",
    "llm = Ollama(model=\"gemma3:1b\")"
   ]
  },
  {
   "cell_type": "code",
   "execution_count": 21,
   "id": "f12b3a61",
   "metadata": {},
   "outputs": [],
   "source": [
    "from langchain_core.prompts import ChatPromptTemplate\n",
    "prompt = ChatPromptTemplate.from_template(\"\"\"\n",
    "Answer the following question based on the provided context.\n",
    "Think step by step before providing a detaiiled answer.\n",
    "<context>\n",
    "{context}\n",
    "</context>\n",
    "Question :{input} \"\"\")"
   ]
  },
  {
   "cell_type": "code",
   "execution_count": 22,
   "id": "44217d6a",
   "metadata": {},
   "outputs": [],
   "source": [
    "#Chain domain chain stuff\n",
    "from langchain.chains.combine_documents import create_stuff_documents_chain\n",
    "document_chain = create_stuff_documents_chain(llm,prompt)\n"
   ]
  },
  {
   "cell_type": "code",
   "execution_count": 23,
   "id": "71f850d2",
   "metadata": {},
   "outputs": [
    {
     "data": {
      "text/plain": [
       "VectorStoreRetriever(tags=['Chroma', 'OllamaEmbeddings'], vectorstore=<langchain_community.vectorstores.chroma.Chroma object at 0x0000025240C97890>, search_kwargs={})"
      ]
     },
     "execution_count": 23,
     "metadata": {},
     "output_type": "execute_result"
    }
   ],
   "source": [
    "retriever = db.as_retriever()\n",
    "retriever"
   ]
  },
  {
   "cell_type": "code",
   "execution_count": null,
   "id": "cc10b073",
   "metadata": {},
   "outputs": [],
   "source": [
    "# retriever chain : to combine both document_chain and retriever\n",
    "from langchain.chains import create_retrieval_chain\n",
    "retrieval_chain = create_retrieval_chain(retriever,document_chain)\n",
    "retrieval_chain.invoke({\"input\":\"tell about few plant disease\"})\n"
   ]
  },
  {
   "cell_type": "code",
   "execution_count": 13,
   "id": "8d38cba4",
   "metadata": {},
   "outputs": [
    {
     "data": {
      "text/plain": [
       "'Here’s a breakdown of plant diseases, based solely on the provided text:\\n\\n**Plant Diseases:**\\n\\nAccording to the text, plant diseases include:\\n\\n*   **Fungal, bacterial & viral diseases:** (blight, rust, wilt)\\n*   **Weed infestations:** (competing for nutrients)\\n*   **Insect infestations:** (locusts, aphids, borers)\\n*   **Ice-related diseases:** (frost & hailstorms)\\n\\n'"
      ]
     },
     "execution_count": 13,
     "metadata": {},
     "output_type": "execute_result"
    }
   ],
   "source": [
    "response = retrieval_chain.invoke({\"input\":\"Tell about plant disease\"})\n",
    "response['answer']"
   ]
  }
 ],
 "metadata": {
  "kernelspec": {
   "display_name": "Python 3",
   "language": "python",
   "name": "python3"
  },
  "language_info": {
   "codemirror_mode": {
    "name": "ipython",
    "version": 3
   },
   "file_extension": ".py",
   "mimetype": "text/x-python",
   "name": "python",
   "nbconvert_exporter": "python",
   "pygments_lexer": "ipython3",
   "version": "3.11.9"
  }
 },
 "nbformat": 4,
 "nbformat_minor": 5
}
